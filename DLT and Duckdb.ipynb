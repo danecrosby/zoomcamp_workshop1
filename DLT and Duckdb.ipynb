{
 "cells": [
  {
   "cell_type": "code",
   "execution_count": 3,
   "id": "6ad99e7c-fd91-4f95-9380-372ee7254779",
   "metadata": {},
   "outputs": [
    {
     "name": "stdout",
     "output_type": "stream",
     "text": [
      "1.0\n",
      "1.4142135623730951\n",
      "1.7320508075688772\n",
      "2.0\n",
      "2.23606797749979\n",
      "The sum of these 5 square roots is 8.382332347441762\n"
     ]
    }
   ],
   "source": [
    "def square_root_generator(limit):\n",
    "    n = 1\n",
    "    while n <= limit:\n",
    "        yield n ** 0.5\n",
    "        n += 1\n",
    "\n",
    "# Example usage:\n",
    "limit = 5\n",
    "generator = square_root_generator(limit)\n",
    "\n",
    "sum_value = 0\n",
    "\n",
    "for sqrt_value in generator:\n",
    "    print(sqrt_value)\n",
    "    sum_value += sqrt_value\n",
    "\n",
    "print(f'The sum of these {limit} square roots is {sum_value}')\n"
   ]
  },
  {
   "cell_type": "code",
   "execution_count": 4,
   "id": "7d8b005c-c697-464f-b74c-39b2ceac7766",
   "metadata": {},
   "outputs": [
    {
     "name": "stdout",
     "output_type": "stream",
     "text": [
      "1.0\n",
      "1.4142135623730951\n",
      "1.7320508075688772\n",
      "2.0\n",
      "2.23606797749979\n",
      "2.449489742783178\n",
      "2.6457513110645907\n",
      "2.8284271247461903\n",
      "3.0\n",
      "3.1622776601683795\n",
      "3.3166247903554\n",
      "3.4641016151377544\n",
      "3.605551275463989\n"
     ]
    }
   ],
   "source": [
    "def square_root_generator(limit):\n",
    "    n = 1\n",
    "    while n <= limit:\n",
    "        yield n ** 0.5\n",
    "        n += 1\n",
    "\n",
    "# Example usage:\n",
    "limit = 13\n",
    "generator = square_root_generator(limit)\n",
    "\n",
    "sum_value = 0\n",
    "\n",
    "for sqrt_value in generator:\n",
    "    print(sqrt_value)"
   ]
  },
  {
   "cell_type": "code",
   "execution_count": 5,
   "id": "3f01ca68-752a-49cf-b6f0-1def3a3741b6",
   "metadata": {},
   "outputs": [
    {
     "name": "stdout",
     "output_type": "stream",
     "text": [
      "{'ID': 1, 'Name': 'Person_1', 'Age': 26, 'City': 'City_A'}\n",
      "{'ID': 2, 'Name': 'Person_2', 'Age': 27, 'City': 'City_A'}\n",
      "{'ID': 3, 'Name': 'Person_3', 'Age': 28, 'City': 'City_A'}\n",
      "{'ID': 4, 'Name': 'Person_4', 'Age': 29, 'City': 'City_A'}\n",
      "{'ID': 5, 'Name': 'Person_5', 'Age': 30, 'City': 'City_A'}\n",
      "{'ID': 3, 'Name': 'Person_3', 'Age': 33, 'City': 'City_B', 'Occupation': 'Job_3'}\n",
      "{'ID': 4, 'Name': 'Person_4', 'Age': 34, 'City': 'City_B', 'Occupation': 'Job_4'}\n",
      "{'ID': 5, 'Name': 'Person_5', 'Age': 35, 'City': 'City_B', 'Occupation': 'Job_5'}\n",
      "{'ID': 6, 'Name': 'Person_6', 'Age': 36, 'City': 'City_B', 'Occupation': 'Job_6'}\n",
      "{'ID': 7, 'Name': 'Person_7', 'Age': 37, 'City': 'City_B', 'Occupation': 'Job_7'}\n",
      "{'ID': 8, 'Name': 'Person_8', 'Age': 38, 'City': 'City_B', 'Occupation': 'Job_8'}\n",
      "The sum of all ages is 353\n"
     ]
    }
   ],
   "source": [
    "def people_1():\n",
    "    for i in range(1, 6):\n",
    "        yield {\"ID\": i, \"Name\": f\"Person_{i}\", \"Age\": 25 + i, \"City\": \"City_A\"}\n",
    "\n",
    "sum_ages = 0\n",
    "\n",
    "for person in people_1():\n",
    "    print(person)\n",
    "    sum_ages += person[\"Age\"]\n",
    "\n",
    "\n",
    "def people_2():\n",
    "    for i in range(3, 9):\n",
    "        yield {\"ID\": i, \"Name\": f\"Person_{i}\", \"Age\": 30 + i, \"City\": \"City_B\", \"Occupation\": f\"Job_{i}\"}\n",
    "\n",
    "\n",
    "for person in people_2():\n",
    "    print(person)\n",
    "    sum_ages += person[\"Age\"]\n",
    "\n",
    "print(f'The sum of all ages is {sum_ages}')\n"
   ]
  },
  {
   "cell_type": "code",
   "execution_count": 19,
   "id": "75fbfd5e-5da1-4ea7-916e-c705dbbd4305",
   "metadata": {},
   "outputs": [
    {
     "name": "stdout",
     "output_type": "stream",
     "text": [
      "Pipeline people_pipeline load step completed in 0.30 seconds\n",
      "1 load package(s) were loaded to destination duckdb and into dataset people_dataset\n",
      "The duckdb destination used duckdb:///G:\\zoomcamp\\dlt_workshop\\people_pipeline.duckdb location to store data\n",
      "Load package 1707979105.6799445 is LOADED and contains no failed jobs\n",
      "Pipeline people_pipeline load step completed in 0.32 seconds\n",
      "1 load package(s) were loaded to destination duckdb and into dataset people_dataset\n",
      "The duckdb destination used duckdb:///G:\\zoomcamp\\dlt_workshop\\people_pipeline.duckdb location to store data\n",
      "Load package 1707979106.4579797 is LOADED and contains no failed jobs\n"
     ]
    }
   ],
   "source": [
    "import dlt\n",
    "\n",
    "pipeline = dlt.pipeline(pipeline_name=\"people_pipeline\",\n",
    "\t\t\t\t\t\tdestination='duckdb', \n",
    "\t\t\t\t\t\tdataset_name='people_dataset')\n",
    "\n",
    "# run pipeline, people_1 onto a duckdb table\n",
    "info = pipeline.run(people_1, \n",
    "                    table_name=\"people_table\", \n",
    "                    write_disposition=\"replace\")\n",
    "# show the outcome\n",
    "print(info)\n",
    "\n",
    "#appending people_2\n",
    "info = pipeline.run(people_2, \n",
    "                    table_name=\"people_table\", \n",
    "                    write_disposition=\"append\")\n",
    "\n",
    "print(info)"
   ]
  },
  {
   "cell_type": "code",
   "execution_count": 20,
   "id": "2da0495a-55db-4fb3-81ad-c2333f6a492d",
   "metadata": {},
   "outputs": [
    {
     "name": "stdout",
     "output_type": "stream",
     "text": [
      "[(1, 'Person_1', 26, 'City_A', '1707979105.6799445', 'pgi4278i6Q7QlA', None), (2, 'Person_2', 27, 'City_A', '1707979105.6799445', 'zvPMZfmpaKLjjg', None), (3, 'Person_3', 28, 'City_A', '1707979105.6799445', 'QZcf72Xh9FZHBQ', None), (4, 'Person_4', 29, 'City_A', '1707979105.6799445', 'zldVvK4LMmUhBg', None), (5, 'Person_5', 30, 'City_A', '1707979105.6799445', 'ZN7jMvHpgISG2Q', None), (3, 'Person_3', 33, 'City_B', '1707979106.4579797', 'JtLUAZ/XIiMawg', 'Job_3'), (4, 'Person_4', 34, 'City_B', '1707979106.4579797', 'pTu/x3qU46L+PA', 'Job_4'), (5, 'Person_5', 35, 'City_B', '1707979106.4579797', 'RGgioYoNgc9krw', 'Job_5'), (6, 'Person_6', 36, 'City_B', '1707979106.4579797', 'efOktfORkuba8A', 'Job_6'), (7, 'Person_7', 37, 'City_B', '1707979106.4579797', 'm7P7vtfxyhmSjQ', 'Job_7'), (8, 'Person_8', 38, 'City_B', '1707979106.4579797', 'eiBJM6ICQGYNDQ', 'Job_8')]\n"
     ]
    }
   ],
   "source": [
    "import duckdb\n",
    "\n",
    "# Connect to the DuckDB database\n",
    "conn = duckdb.connect(database='G:/zoomcamp/dlt_workshop/people_pipeline.duckdb')\n",
    "\n",
    "# Run SQL queries\n",
    "cursor = conn.execute(\"SELECT * FROM people_dataset.people_table\")\n",
    "\n",
    "# Fetch and display the results\n",
    "result = cursor.fetchall()\n",
    "print(result)"
   ]
  },
  {
   "cell_type": "code",
   "execution_count": 23,
   "id": "82104152-b6b8-4687-959d-1d416c63aaf0",
   "metadata": {},
   "outputs": [
    {
     "name": "stdout",
     "output_type": "stream",
     "text": [
      "[(353,)]\n"
     ]
    }
   ],
   "source": [
    "# Connect to the DuckDB database\n",
    "conn = duckdb.connect(database='G:/zoomcamp/dlt_workshop/people_pipeline.duckdb')\n",
    "\n",
    "# Run SQL queries\n",
    "cursor = conn.execute(\"SELECT SUM(Age) as Total_Age FROM people_dataset.people_table\")\n",
    "\n",
    "# Fetch and display the results\n",
    "result = cursor.fetchall()\n",
    "print(result)"
   ]
  },
  {
   "cell_type": "code",
   "execution_count": 50,
   "id": "b780fa15-2ceb-4dc3-9303-33039701fa7f",
   "metadata": {},
   "outputs": [
    {
     "name": "stdout",
     "output_type": "stream",
     "text": [
      "Pipeline people_pipeline load step completed in 0.29 seconds\n",
      "1 load package(s) were loaded to destination duckdb and into dataset people_dataset\n",
      "The duckdb destination used duckdb:///G:\\zoomcamp\\dlt_workshop\\people_pipeline.duckdb location to store data\n",
      "Load package 1707980355.0891318 is LOADED and contains no failed jobs\n",
      "Pipeline people_pipeline load step completed in 0.55 seconds\n",
      "1 load package(s) were loaded to destination duckdb and into dataset people_dataset\n",
      "The duckdb destination used duckdb:///G:\\zoomcamp\\dlt_workshop\\people_pipeline.duckdb location to store data\n",
      "Load package 1707980355.8640976 is LOADED and contains no failed jobs\n"
     ]
    }
   ],
   "source": [
    "import dlt\n",
    "\n",
    "pipeline = dlt.pipeline(pipeline_name=\"people_pipeline\",\n",
    "\t\t\t\t\t\tdestination='duckdb', \n",
    "\t\t\t\t\t\tdataset_name='people_dataset')\n",
    "\n",
    "# run pipeline, people_1 onto a duckdb table\n",
    "info = pipeline.run(people_1, \n",
    "                    table_name=\"people_table\", \n",
    "                    write_disposition=\"replace\",\n",
    "                    primary_key='ID')\n",
    "print(info)\n",
    "\n",
    "#merging people_2 based on primary key 'ID'\n",
    "info = pipeline.run(people_2, \n",
    "                    table_name=\"people_table\", \n",
    "                    write_disposition=\"merge\", \n",
    "                    primary_key=\"ID\")\n",
    "\n",
    "# show the outcome\n",
    "print(info)\n"
   ]
  },
  {
   "cell_type": "code",
   "execution_count": 51,
   "id": "2ad7f5c5-e213-429e-8e8b-3974a4b47a28",
   "metadata": {},
   "outputs": [
    {
     "name": "stdout",
     "output_type": "stream",
     "text": [
      "[(266,)]\n"
     ]
    }
   ],
   "source": [
    "# Connect to the DuckDB database\n",
    "conn = duckdb.connect(database='G:/zoomcamp/dlt_workshop/people_pipeline.duckdb')\n",
    "\n",
    "# Run SQL queries\n",
    "cursor = conn.execute(\"SELECT SUM(Age) as Total_Age FROM people_dataset.people_table\")\n",
    "\n",
    "# Fetch and display the results\n",
    "result = cursor.fetchall()\n",
    "print(result)"
   ]
  },
  {
   "cell_type": "code",
   "execution_count": 52,
   "id": "bd656b00-cc0e-4631-ba43-d78c3a41bdd9",
   "metadata": {},
   "outputs": [
    {
     "name": "stdout",
     "output_type": "stream",
     "text": [
      "[(1, 'Person_1', 26, 'City_A', '1707980355.0891318', 'BY5hsMjMsQUcnQ', None), (2, 'Person_2', 27, 'City_A', '1707980355.0891318', '7gJiDEKRzh3AEw', None), (8, 'Person_8', 38, 'City_B', '1707980355.8640976', 'z2TcA6/n4TUSrg', 'Job_8'), (5, 'Person_5', 35, 'City_B', '1707980355.8640976', '3SfTQRU4JPMzAA', 'Job_5'), (7, 'Person_7', 37, 'City_B', '1707980355.8640976', 'um/otKP7xM0j+w', 'Job_7'), (3, 'Person_3', 33, 'City_B', '1707980355.8640976', 'BWaDfRibSbL9ug', 'Job_3'), (6, 'Person_6', 36, 'City_B', '1707980355.8640976', 'zVvIGYFM0tKMOA', 'Job_6'), (4, 'Person_4', 34, 'City_B', '1707980355.8640976', 'XzgqN9j2gZEynw', 'Job_4')]\n"
     ]
    }
   ],
   "source": [
    "import duckdb\n",
    "\n",
    "# Connect to the DuckDB database\n",
    "conn = duckdb.connect(database='G:/zoomcamp/dlt_workshop/people_pipeline.duckdb')\n",
    "\n",
    "# Run SQL queries\n",
    "cursor = conn.execute(\"SELECT * FROM people_dataset.people_table\")\n",
    "\n",
    "# Fetch and display the results\n",
    "result = cursor.fetchall()\n",
    "print(result)"
   ]
  },
  {
   "cell_type": "code",
   "execution_count": null,
   "id": "431e5f5b-872d-4f7d-9c01-05f867ce87af",
   "metadata": {},
   "outputs": [],
   "source": []
  }
 ],
 "metadata": {
  "kernelspec": {
   "display_name": "Python 3 (ipykernel)",
   "language": "python",
   "name": "python3"
  },
  "language_info": {
   "codemirror_mode": {
    "name": "ipython",
    "version": 3
   },
   "file_extension": ".py",
   "mimetype": "text/x-python",
   "name": "python",
   "nbconvert_exporter": "python",
   "pygments_lexer": "ipython3",
   "version": "3.11.5"
  }
 },
 "nbformat": 4,
 "nbformat_minor": 5
}
